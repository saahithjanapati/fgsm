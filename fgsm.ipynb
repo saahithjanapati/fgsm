{
 "cells": [
  {
   "cell_type": "code",
   "execution_count": 5,
   "id": "709a3fc8-5251-4baf-ada1-07379066cb59",
   "metadata": {
    "tags": []
   },
   "outputs": [],
   "source": [
    "import torch\n",
    "import torch.nn as nn\n",
    "from torch.utils.data import DataLoader\n",
    "import torch.nn.functional as F\n",
    "from torchvision import transforms, datasets"
   ]
  },
  {
   "cell_type": "markdown",
   "id": "9ce2d82e-5fca-4093-9ec8-bff1ceed3071",
   "metadata": {},
   "source": [
    "# MNIST"
   ]
  },
  {
   "cell_type": "code",
   "execution_count": 135,
   "id": "db7578bb-a0ab-40f0-9043-b8d8f44a8468",
   "metadata": {
    "tags": []
   },
   "outputs": [],
   "source": [
    "class MNISTClassifier(nn.Module):\n",
    "    \n",
    "    def __init__(self):\n",
    "        super().__init__()\n",
    "        self.fc1 = nn.Linear(784, 512)\n",
    "        self.fc2 = nn.Linear(512, 512)\n",
    "        self.fc3 = nn.Linear(512, 256)\n",
    "        self.dropout = nn.Dropout(0.1)\n",
    "        self.fc4 = nn.Linear(256, 128)\n",
    "        self.fc5 = nn.Linear(128, 10)\n",
    "        self.relu = nn.ReLU()\n",
    "    \n",
    "    \n",
    "    def forward(self, x):\n",
    "        x = self.fc1(x)\n",
    "        x = self.relu(x)\n",
    "        x = self.fc2(x)\n",
    "        x = self.relu(x)\n",
    "        x = self.fc3(x)\n",
    "        x = self.relu(x)\n",
    "        x = self.dropout(x)\n",
    "        x = self.fc4(x)\n",
    "        x = self.relu(x)\n",
    "        x = self.fc5(x)\n",
    "        return x"
   ]
  },
  {
   "cell_type": "code",
   "execution_count": 136,
   "id": "b02df9ff-73fe-4076-a671-50491c42de29",
   "metadata": {
    "tags": []
   },
   "outputs": [
    {
     "name": "stderr",
     "output_type": "stream",
     "text": [
      "/tmp/ipykernel_280824/3315047612.py:11: FutureWarning: You are using `torch.load` with `weights_only=False` (the current default value), which uses the default pickle module implicitly. It is possible to construct malicious pickle data which will execute arbitrary code during unpickling (See https://github.com/pytorch/pytorch/blob/main/SECURITY.md#untrusted-models for more details). In a future release, the default value for `weights_only` will be flipped to `True`. This limits the functions that could be executed during unpickling. Arbitrary objects will no longer be allowed to be loaded via this mode unless they are explicitly allowlisted by the user via `torch.serialization.add_safe_globals`. We recommend you start setting `weights_only=True` for any use case where you don't have full control of the loaded file. Please open an issue on GitHub for any issues related to this experimental feature.\n",
      "  state_dict = torch.load(\"mnist_state_dict.pt\", map_location = get_best_device())\n"
     ]
    },
    {
     "data": {
      "text/plain": [
       "<All keys matched successfully>"
      ]
     },
     "execution_count": 136,
     "metadata": {},
     "output_type": "execute_result"
    }
   ],
   "source": [
    "def get_best_device():\n",
    "    if torch.cuda.is_available():\n",
    "        return torch.device('cuda')\n",
    "    elif torch.backends.mps.is_available():\n",
    "        return torch.device(\"mps\")\n",
    "    else:\n",
    "        return torch.device(\"cpu\")\n",
    "\n",
    "\n",
    "# load model\n",
    "state_dict = torch.load(\"mnist_state_dict.pt\", map_location = get_best_device())\n",
    "model = MNISTClassifier()\n",
    "model.load_state_dict(state_dict)"
   ]
  },
  {
   "cell_type": "code",
   "execution_count": 137,
   "id": "d7d825c7-0a84-40a2-99c7-602c205a3c5b",
   "metadata": {
    "tags": []
   },
   "outputs": [],
   "source": [
    "# define dataset\n",
    "transform = transforms.Compose([\n",
    "    transforms.ToTensor(),\n",
    "    transforms.Normalize((0.5, ), (0.5, ))\n",
    "])\n",
    "\n",
    "dataset = datasets.MNIST(root='./mnist_data', train=False, transform=transform, download=True)\n",
    "loader = DataLoader(dataset, shuffle=True, batch_size=1)"
   ]
  },
  {
   "cell_type": "code",
   "execution_count": 138,
   "id": "c8af7c71-1728-4c93-8243-fa906515f40f",
   "metadata": {
    "tags": []
   },
   "outputs": [
    {
     "data": {
      "image/png": "[encoded data removed]",
      "text/plain": [
       "<Figure size 640x480 with 1 Axes>"
      ]
     },
     "metadata": {},
     "output_type": "display_data"
    }
   ],
   "source": [
    "import matplotlib.pyplot as plt\n",
    "\n",
    "def visualize_mnist_image(img):\n",
    "    img = img.view(784)\n",
    "    np_img = img.numpy()\n",
    "    mat = np_img.reshape(28, 28)\n",
    "    plt.imshow(mat, cmap='grey')\n",
    "\n",
    "visualize_mnist_image(x)"
   ]
  },
  {
   "cell_type": "code",
   "execution_count": 171,
   "id": "4fe9052e-f48d-464d-9e80-6ff08afe0ad6",
   "metadata": {
    "tags": []
   },
   "outputs": [],
   "source": [
    "def run_mnist_fgsm(model, x, y, epsilon=[0.1]):\n",
    "    \n",
    "    model.eval()\n",
    "    device = next(model.parameters()).device\n",
    "    \n",
    "    x = x.view(-1, 784).detach()\n",
    "    x= x.to(device)\n",
    "    y = y.to(device)\n",
    "    x.requires_grad = True\n",
    "    \n",
    "    out = model(x) \n",
    "    \n",
    "    loss = F.cross_entropy(out, y)\n",
    "    loss.backward()\n",
    "    \n",
    "    if not isinstance(epsilon, list):\n",
    "        epsilon = [epsilon]\n",
    "    \n",
    "    num_epsilon = len(epsilon)\n",
    "    epsilon = torch.tensor(epsilon) # len\n",
    "    epsilon = epsilon.view(num_epsilon , -1)\n",
    "    \n",
    "    \n",
    "    mod_x = x + (x.grad * epsilon)\n",
    "    mod_x = mod_x.detach()\n",
    "    \n",
    "    return mod_x"
   ]
  },
  {
   "cell_type": "code",
   "execution_count": 172,
   "id": "d1ea02b3-5a06-4684-9c0f-5c49c2711c92",
   "metadata": {
    "tags": []
   },
   "outputs": [
    {
     "name": "stdout",
     "output_type": "stream",
     "text": [
      "torch.Size([5, 784])\n"
     ]
    }
   ],
   "source": [
    "x,y = next(iter(loader))\n",
    "mod_x = run_mnist_fgsm(model, x, y, [0.05, 0.1, 0.2, 0.3, 1000])\n",
    "print(mod_x.shape)"
   ]
  },
  {
   "cell_type": "code",
   "execution_count": 175,
   "id": "bb8914d3-aec3-4149-9896-7c48ee45b2f0",
   "metadata": {
    "tags": []
   },
   "outputs": [
    {
     "data": {
      "image/png": "[encoded data removed]",
      "text/plain": [
       "<Figure size 640x480 with 1 Axes>"
      ]
     },
     "metadata": {},
     "output_type": "display_data"
    }
   ],
   "source": [
    "visualize_mnist_image(mod_x[1, :])"
   ]
  },
  {
   "cell_type": "markdown",
   "id": "bdfc2163-1577-4930-b236-7b1ac2370029",
   "metadata": {},
   "source": [
    "# ImageNet"
   ]
  },
  {
   "cell_type": "code",
   "execution_count": null,
   "id": "05cefe34-7758-4fd7-b968-b99e070aff97",
   "metadata": {},
   "outputs": [],
   "source": []
  }
 ],
 "metadata": {
  "kernelspec": {
   "display_name": "Python 3 (ipykernel)",
   "language": "python",
   "name": "python3"
  },
  "language_info": {
   "codemirror_mode": {
    "name": "ipython",
    "version": 3
   },
   "file_extension": ".py",
   "mimetype": "text/x-python",
   "name": "python",
   "nbconvert_exporter": "python",
   "pygments_lexer": "ipython3",
   "version": "3.11.4"
  }
 },
 "nbformat": 4,
 "nbformat_minor": 5
}
